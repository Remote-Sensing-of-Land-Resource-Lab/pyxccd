{
 "cells": [
  {
   "cell_type": "markdown",
   "id": "03336780",
   "metadata": {},
   "source": [
    "# Lesson 0: introduction\n",
    "**Author: Su Ye (remotesensingsuy@gmail.com)**\n",
    "\n",
    "This tutorial was made to present the examples for using `pyxccd` for multiple remote sensing and ecological applications using multi-source time-series datasets.\n",
    "\n",
    "Special thanks to Tianjia Chu, Ronghua Liao, Yingchu Hu, and Yulin Jiang for preparing tutorial datasets.\n",
    "\n",
    "## Preparation:\n",
    "First, please install  `pyxccd`. In a Jupyter notebook cell, run:\n",
    "```\n",
    "pip install pyxccd\n",
    "```\n",
    "\n",
    "Additionally, you need to install the visualization package:\n",
    "```\n",
    "pip install seaborn\n",
    "```\n",
    "\n",
    "Download the recent source codes of [pyxccd](https://github.com/Remote-Sensing-of-Land-Resource-Lab/pyxccd) in the devel branch, unzipped it, and under the directory `/pyxccd/tutorial`, the directory should look like: <br />\n",
    "```\n",
    "└── notebooks\n",
    "└── datasets\n",
    "```\n",
    "\n",
    "## Learning Pyxccd with Examples:\n",
    "\n",
    "To illustrate the utilities of pyxccd, we prepared multiple notebook examples using diversified multivariate satellite-based time series across a wide range of applications in this tutorial:\n",
    "\n",
    "| No. | Topics |  Applications  | Location | Time series | Resolution | Density |\n",
    "| :------- | :------: | -------: | -------: | -------: | -------: | -------: |\n",
    "| 1 | Break detection            | Forest fire |Sichuan, China| HLS2.0    | 30m | 2-3 days |\n",
    "| 2 | Parameter selection        | Forest Insects |CO & MA, United States| Landsat  |30m | 8-16 days |\n",
    "| 3 | Flexible choice for inputs | Crop dynamics |Henan, China|Sentinel-2 | 10m | 5 days |\n",
    "| 4 | Tile-based processing      | General disturbances |Zhejiang, China| HLS2.0 | 30m | 2-3 days |\n",
    "| 5 | State analysis 1           | Greening |Tibet, China | MODIS | 500m | 16 days |\n",
    "| 5 | State analysis 2           | Precipitation seasonality |Arctic | GPCP | 2.5° | Monthly |\n",
    "| 6 | Anomalies vs. breaks       | Agricultural drought  |Rajasthan, India|  GOSIF  | 0.05°| 8 days |\n",
    "| 7 | Near real-time monitoring  | Forest logging |Sichuan, China|  HLS2.0  | 30m | 2-3 days |\n",
    "| 8 | Gap filling                | Soil moisture | Henan, China| FY3B  | 25km | Daily |\n",
    "\n",
    "\n",
    "Note: \n",
    "\n",
    "(1) The tutorial primarily provides pixel-based time series examples for educational purposes; however, in practical applications, analyses are typically performed on image-based datasets. In Lesson 4, we specifically demonstrate the procedures for applying pyxccd to real image-based datasets;\n",
    "\n",
    "(2) All date columns in the tutorial are formatted as Gregorian proleptic ordinal numbers, representing the number of days elapsed since 0001-01-01. Users can convert these values to standard date formats using the Python function `datetime.date.fromordinal()`.\n",
    "\n"
   ]
  }
 ],
 "metadata": {
  "language_info": {
   "name": "python"
  }
 },
 "nbformat": 4,
 "nbformat_minor": 5
}
