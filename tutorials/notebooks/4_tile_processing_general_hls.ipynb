{
 "cells": [
  {
   "cell_type": "markdown",
   "metadata": {},
   "source": [
    "# Lesson 4: detecting general disturbances using HLS datasets\n",
    "\n",
    "**Author: Yingchu Hu, Su Ye (remotesensingsuy@gmail.com)**\n",
    "\n",
    "**Time series datasets: Harmonized Landsat-Sentinel (HLS) datasets**\n",
    "\n",
    "**Application: general disturbance detection**\n",
    "\n",
    "This tutorial will guide you through processing tile-based time-series images using pyxccd to generate annual disturbance maps, recent disturbance maps, and first disturbance maps. The tile-based processing workflow typically consists of three main steps:\n",
    "\n",
    "Step 1: **image stacking**. \n",
    "\n",
    "This step physically converts the original HLS images into several hundred time-series blocks to maximize data locality. Block dimensions are specified in `config_hls.yaml`. By storing data as smaller, spatially contiguous blocks, each compute thread or node operates on a local subset of data, avoiding contention on a single shared source and enabling parallel read/write operations. This reduces disk and network I/O bottlenecks during subsequent time-series processing and significantly speeds up ingestion. The stacked output is saved in a Python-native `.npy` format. During stacking, bit-encoded QA flags are converted to integer class codes (0 = clear, 1 = water, 2 = shadow, 3 = snow, 4 = cloud);\n",
    "\n",
    "Step 2: **time-series processing**. \n",
    "\n",
    "Process the stacked blocks with a time-series algorithm (COLD or S-CCD). Algorithm parameters are configurable in `config_hls`.yaml. For each block, the step outputs block-based per-segment information (for every detected segment): break time, start time, harmonic coefficients, RMSE, and other diagnostic fields. The goal is to record comprehensive segment metadata so that downstream map generation (disturbance maps, coefficient maps, classification maps) can be produced without re-processing raw images. Processing is parallelizable across threads or nodes; users should adapt the provided desktop parallelization example to their local environment (cluster, SLURM, Dask, Spark, etc.).\n",
    "\n",
    "\n",
    "Step 3: **map generation**. \n",
    "\n",
    "Generate maps from the per-segment outputs according to user needs. Example outputs include annual disturbance maps and ensemble disturbance maps that summarize location, disturbance category, and timing. Because segment metadata are comprehensive, map generation is I/O-light and can be performed rapidly once segment files are available.\n",
    "---"
   ]
  },
  {
   "cell_type": "markdown",
   "metadata": {},
   "source": [
    "## Step 0: preparation"
   ]
  },
  {
   "cell_type": "markdown",
   "metadata": {},
   "source": [
    "### 1. Install Pyxccd\n",
    "```\n",
    "pip install pyxccd\n",
    "```"
   ]
  },
  {
   "cell_type": "markdown",
   "metadata": {},
   "source": [
    "### 2. Prepare HLS images\n",
    "Prepare downloaded HLS files with the following structure (example contains 6 years of HLS data from 2019-2024):  \n",
    "Quark Drive download link: https://pan.quark.cn/s/f6456bf1ad27?pwd=FxtU  \n",
    "Extraction code: FxtU\n",
    "```\n",
    "HLS_root_directory/\n",
    "└── Tile_ID (e.g., 51RTP)/\n",
    "    └── HLS_image_files (e.g., HLS.S30.T51RTP.2021001.v2.0.B02.tif)\n",
    "```"
   ]
  },
  {
   "cell_type": "markdown",
   "metadata": {},
   "source": [
    "### 3. Configuration File\n",
    "Prepare `config_hls.yaml` with adjustable block size parameters (example uses 30×30 blocks):\n",
    "```yaml\n",
    "DATASETINFO:\n",
    "  n_rows: 3660\n",
    "  n_cols: 3660\n",
    "  n_block_x: 30\n",
    "  n_block_y: 30\n",
    "```"
   ]
  },
  {
   "cell_type": "markdown",
   "metadata": {},
   "source": [
    "## Step 1: Image Stacking"
   ]
  },
  {
   "cell_type": "markdown",
   "metadata": {},
   "source": [
    "### Procedure\n",
    "1. Ensure tile list file `tile_list` contains target tile IDs (one per line, example uses 51RTP)"
   ]
  },
  {
   "cell_type": "markdown",
   "metadata": {},
   "source": [
    "2. Run stacking script:\n",
    "```bash\n",
    "python step1_stack.py --tile_list_fn ./tile_list \\\n",
    "                     --meta_path /path/to/hls/data \\\n",
    "                     --yaml_path ./config_hls.yaml \\\n",
    "                     --out_path /stack \\\n",
    "                     --low_date_bound 2019-01-01 \\\n",
    "                     --upp_date_bound 2024-12-31 \\\n",
    "                     --n_cores 16\n",
    "```"
   ]
  },
  {
   "cell_type": "markdown",
   "metadata": {},
   "source": [
    "### Parameters\n",
    "```\n",
    "--tile_list_fn: Path to tile list file\n",
    "--meta_path: HLS data root directory\n",
    "--yaml_path: Configuration file path\n",
    "--out_path: Output directory for stacked data\n",
    "--low_date_bound: Start date (YYYY-MM-DD)\n",
    "--upp_date_bound: End date (YYYY-MM-DD)\n",
    "--n_cores: Number of CPU cores to use\n",
    "```"
   ]
  },
  {
   "cell_type": "markdown",
   "metadata": {},
   "source": [
    "### Output\n",
    "The output directory (`stack` by default) will contain `{TileID}_stack` folders with block-organized stacked data for each tile."
   ]
  },
  {
   "cell_type": "markdown",
   "metadata": {},
   "source": [
    "## Step 2: Time-series processing (SCCD & COLD)"
   ]
  },
  {
   "cell_type": "markdown",
   "metadata": {},
   "source": [
    "#### Procedure\n",
    "1. Complete the stacking process (Step 1)\n",
    "2. Run SCCD detection script:\n",
    "```bash\n",
    "python step2_sccd.py --tile_list_fn ./tile_list \\\n",
    "                     --stack_path /stack \\\n",
    "                     --result_parent_path /sccd_results \\\n",
    "                     --yaml_path /config_hls.yaml \\\n",
    "                     --low_datebound 2019-01-01 \\\n",
    "                     --upper_datebound 2024-12-31 \\\n",
    "                     --n_cores 16\n",
    "```"
   ]
  },
  {
   "cell_type": "markdown",
   "metadata": {},
   "source": [
    "#### Parameters\n",
    "```\n",
    "--stack_path: Stacked data directory from Step 1\n",
    "--result_parent_path: Output directory for SCCD results\n",
    "(Other parameters same as Step 1)\n",
    "```"
   ]
  },
  {
   "cell_type": "markdown",
   "metadata": {},
   "source": [
    "#### Output\n",
    "The output directory (`sccd_results` by default) will contain:\n",
    "```\n",
    "record_change_x{blockX}_y{blockY}_sccd.npy: Change detection results per block\n",
    "SCCD_block{blockID}_finished.txt: Completion marker files\n",
    "```"
   ]
  },
  {
   "cell_type": "markdown",
   "metadata": {},
   "source": [
    "### COLD Algorithm"
   ]
  },
  {
   "cell_type": "markdown",
   "metadata": {},
   "source": [
    "#### Procedure\n",
    "1. Complete the stacking process (Step 1)\n",
    "2. Run COLD detection script:\n",
    "```bash\n",
    "python step2_cold.py --tile_list_fn ./tile_list \\\n",
    "                     --stack_path /stack \\\n",
    "                     --result_parent_path /cold_results \\\n",
    "                     --yaml_path ./config_hls.yaml \\\n",
    "                     --low_datebound 2019-01-01 \\\n",
    "                     --upper_datebound 2024-12-31 \\\n",
    "                     --n_cores 16\n",
    "```"
   ]
  },
  {
   "cell_type": "markdown",
   "metadata": {},
   "source": [
    "#### Parameters\n",
    "```\n",
    "--stack_path: Stacked data directory from Step 1\n",
    "--result_parent_path: Output directory for COLD results\n",
    "(Other parameters same as Step 1)\n",
    "```"
   ]
  },
  {
   "cell_type": "markdown",
   "metadata": {},
   "source": [
    "#### Output\n",
    "The output directory (`cold_results` by default) will contain:\n",
    "```\n",
    "record_change_x{blockX}_y{blockY}_cold.npy: Change detection results per block\n",
    "COLD_block{blockID}_finished.txt: Completion marker files\n",
    "```"
   ]
  },
  {
   "cell_type": "markdown",
   "metadata": {},
   "source": [
    "## Step 3: Map generation"
   ]
  },
  {
   "cell_type": "markdown",
   "metadata": {},
   "source": [
    "### Purpose\n",
    "Convert change detection results into annual/recent/first disturbance maps."
   ]
  },
  {
   "cell_type": "markdown",
   "metadata": {},
   "source": [
    "### Procedure\n",
    "1. Complete Steps 1-2\n",
    "2. Run disturbance mapping script:\n",
    "```bash\n",
    "python step3_disturbance_map.py --source_dir /hls \\\n",
    "                               --result_path /sccd_results/51RTP_sccd \\\n",
    "                               --out_path /disturbance_maps \\\n",
    "                               --yaml_path /config_hls.yaml \\\n",
    "                               --year_lowbound 2019 \\\n",
    "                               --year_uppbound 2024 \\\n",
    "                               --n_cores 16\n",
    "```"
   ]
  },
  {
   "cell_type": "markdown",
   "metadata": {},
   "source": [
    "### Parameters\n",
    "```\n",
    "--source_dir: HLS root directory (for spatial reference)\n",
    "--result_path: SCCD results directory (specific to tile)\n",
    "--out_path: Output directory for disturbance maps\n",
    "--year_lowbound: Start year\n",
    "--year_uppbound: End year\n",
    "--n_cores: Number of CPU cores\n",
    "```"
   ]
  },
  {
   "cell_type": "markdown",
   "metadata": {},
   "source": [
    "### Output\n",
    "The output directory (`disturbance_maps` by default) will contain:\n",
    "```\n",
    "{year}_break_map_SCCDOFFLINE.tif: Annual disturbance map\n",
    "recent_disturbance_map_SCCDOFFLINE.tif: Recent disturbance map (year of latest disturbance)\n",
    "first_disturbance_map_SCCDOFFLINE.tif: First disturbance map (year of first disturbance)\n",
    "```"
   ]
  },
  {
   "cell_type": "markdown",
   "metadata": {},
   "source": [
    "### Interpretation\n",
    "#### Annual Disturbance Maps\n",
    "Pixel value = disturbance_type × 1000 + day_of_year  \n",
    "Disturbance types:  \n",
    "&nbsp;&nbsp;1 - Vegetation disturbance  \n",
    "&nbsp;&nbsp;2 - Non-vegetation disturbance\n"
   ]
  },
  {
   "cell_type": "markdown",
   "metadata": {},
   "source": [
    "#### Recent Disturbance Map\n",
    "Shows the most recent disturbance year for each pixel  \n",
    "0 indicates no disturbance"
   ]
  },
  {
   "cell_type": "markdown",
   "metadata": {},
   "source": [
    "#### First Disturbance Map\n",
    "Shows the first disturbance year for each pixel  \n",
    "0 indicates no disturbance\n"
   ]
  },
  {
   "cell_type": "markdown",
   "metadata": {},
   "source": [
    "## Important Notes\n",
    "1. For large areas, process tiles in batches to avoid memory overload\n",
    "2. Adjust block size parameters in config_hls.yaml to balance speed and memory usage\n",
    "3. Interrupted processing can be resumed - the script will skip completed blocks\n"
   ]
  },
  {
   "cell_type": "markdown",
   "metadata": {},
   "source": [
    "## Example Output\n",
    "2019-2024 First Disturbance Map (SCCD)\n",
    "\n",
    "![First Disturbance Map](first_disturb1.png)"
   ]
  }
 ],
 "metadata": {
  "kernelspec": {
   "display_name": "Python 3",
   "language": "python",
   "name": "python3"
  },
  "language_info": {
   "codemirror_mode": {
    "name": "ipython",
    "version": 3
   },
   "file_extension": ".py",
   "mimetype": "text/x-python",
   "name": "python",
   "nbconvert_exporter": "python",
   "pygments_lexer": "ipython3",
   "version": "3.11.9"
  }
 },
 "nbformat": 4,
 "nbformat_minor": 4
}
